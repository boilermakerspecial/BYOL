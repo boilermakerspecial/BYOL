{
  "nbformat": 4,
  "nbformat_minor": 0,
  "metadata": {
    "colab": {
      "provenance": [],
      "gpuType": "L4",
      "machine_shape": "hm"
    },
    "kernelspec": {
      "name": "python3",
      "display_name": "Python 3"
    },
    "language_info": {
      "name": "python"
    },
    "accelerator": "GPU"
  },
  "cells": [
    {
      "cell_type": "markdown",
      "source": [
        "# Reimplementation of Bootstrap Your Own Latent"
      ],
      "metadata": {
        "id": "xcmBCevra21x"
      }
    },
    {
      "cell_type": "code",
      "source": [
        "from google.colab import drive\n",
        "drive.mount('/content/drive')"
      ],
      "metadata": {
        "id": "5AvBRZIRm4O8",
        "colab": {
          "base_uri": "https://localhost:8080/"
        },
        "outputId": "c300d7fc-1754-46ca-ba6d-5313f3ba693e"
      },
      "execution_count": null,
      "outputs": [
        {
          "output_type": "stream",
          "name": "stdout",
          "text": [
            "Mounted at /content/drive\n"
          ]
        }
      ]
    },
    {
      "cell_type": "code",
      "source": [
        "!pip freeze > requirements.txt"
      ],
      "metadata": {
        "id": "YLHTmhT-Awsx"
      },
      "execution_count": null,
      "outputs": []
    },
    {
      "cell_type": "code",
      "execution_count": null,
      "metadata": {
        "id": "HSBax9lK7NKo"
      },
      "outputs": [],
      "source": [
        "import torch\n",
        "import torch.nn as nn\n",
        "import torch.nn.functional as F\n",
        "import torch.optim as optim\n",
        "import matplotlib.pyplot as plt\n",
        "from torch.utils.data import DataLoader, Dataset\n",
        "from torchvision import datasets, models\n",
        "from torchvision.transforms import (\n",
        "    Compose,\n",
        "    Resize,\n",
        "    ToTensor,\n",
        "    Normalize,\n",
        "    RandomApply,\n",
        "    RandomGrayscale,\n",
        "    RandomCrop,\n",
        "    RandomResizedCrop,\n",
        "    RandomHorizontalFlip,\n",
        "    RandomVerticalFlip,\n",
        "    RandomRotation,\n",
        "    GaussianBlur,\n",
        "    ColorJitter\n",
        ")"
      ]
    },
    {
      "cell_type": "code",
      "source": [
        "# Use GPU\n",
        "device = torch.device(\"cuda\" if torch.cuda.is_available() else \"cpu\")\n",
        "print(f\"Device: {device}\")"
      ],
      "metadata": {
        "colab": {
          "base_uri": "https://localhost:8080/"
        },
        "id": "QRWr6vKxNpwN",
        "outputId": "e77524b9-f61f-440b-adf1-6841c84ed9b0"
      },
      "execution_count": null,
      "outputs": [
        {
          "output_type": "stream",
          "name": "stdout",
          "text": [
            "Device: cuda\n"
          ]
        }
      ]
    },
    {
      "cell_type": "code",
      "source": [
        "# Set seeds for reproducibility\n",
        "torch.manual_seed(42)\n",
        "if torch.cuda.is_available():\n",
        "    torch.cuda.manual_seed_all(42)"
      ],
      "metadata": {
        "id": "rslayp5hQAFd"
      },
      "execution_count": null,
      "outputs": []
    },
    {
      "cell_type": "markdown",
      "source": [
        "## Dataset Class"
      ],
      "metadata": {
        "id": "wv4HrSU9clWX"
      }
    },
    {
      "cell_type": "code",
      "source": [
        "class BYOLDataset(torch.utils.data.Dataset):\n",
        "    def __init__(self, dataset, transform):\n",
        "        self.dataset = dataset\n",
        "        self.transform = transform\n",
        "\n",
        "    def __getitem__(self, index):\n",
        "        image, _ = self.dataset[index]\n",
        "        view1 = self.transform(image)\n",
        "        view2 = self.transform(image)\n",
        "        return view1, view2\n",
        "\n",
        "    def __len__(self):\n",
        "        return len(self.dataset)"
      ],
      "metadata": {
        "id": "nHQ4SLlGwg-L"
      },
      "execution_count": null,
      "outputs": []
    },
    {
      "cell_type": "markdown",
      "source": [
        "## Online and Target Network Classes\n",
        "Online Network: Updates during training and is responsible for generating representations  \n",
        "Target Network: Provides stable representations that the online network learns to match"
      ],
      "metadata": {
        "id": "T2Ycb9WZkFT3"
      }
    },
    {
      "cell_type": "code",
      "source": [
        "class OnlineNetwork(nn.Module):\n",
        "    def __init__(self, input_dim=512, hidden_dim=4096, output_dim=256):\n",
        "        super(OnlineNetwork, self).__init__()\n",
        "        self.encoder = get_resnet18_enc()\n",
        "        self.projector = nn.Sequential(\n",
        "            nn.Linear(input_dim, hidden_dim),\n",
        "            nn.BatchNorm1d(hidden_dim),\n",
        "            nn.ReLU(),\n",
        "            nn.Linear(hidden_dim, output_dim)\n",
        "        )\n",
        "        self.predictor = nn.Sequential(\n",
        "            nn.Linear(output_dim, hidden_dim),\n",
        "            nn.BatchNorm1d(hidden_dim),\n",
        "            nn.ReLU(),\n",
        "            nn.Linear(hidden_dim, output_dim)\n",
        "        )\n",
        "\n",
        "    def forward(self, x):\n",
        "        y = self.encoder(x)\n",
        "        z = self.projector(y)\n",
        "        p = self.predictor(z)\n",
        "        return p, z"
      ],
      "metadata": {
        "id": "juy_1kERVvfR"
      },
      "execution_count": null,
      "outputs": []
    },
    {
      "cell_type": "code",
      "source": [
        "class TargetNetwork(nn.Module):\n",
        "    def __init__(self, input_dim=512, hidden_dim=4096, output_dim=256):\n",
        "        super(TargetNetwork, self).__init__()\n",
        "        self.encoder = get_resnet18_enc()\n",
        "        self.projector = nn.Sequential(\n",
        "            nn.Linear(input_dim, hidden_dim),\n",
        "            nn.BatchNorm1d(hidden_dim),\n",
        "            nn.ReLU(),\n",
        "            nn.Linear(hidden_dim, output_dim)\n",
        "        )\n",
        "\n",
        "    def forward(self, x):\n",
        "        y = self.encoder(x)\n",
        "        return self.projector(y)"
      ],
      "metadata": {
        "id": "x_Tzfdz0DCUQ"
      },
      "execution_count": null,
      "outputs": []
    },
    {
      "cell_type": "markdown",
      "source": [
        "### Exponential Moving Average (EMA)\n",
        "Formula: $\\xi = \\tau\\xi + (1 - \\tau)\\theta$"
      ],
      "metadata": {
        "id": "uNGzRLtmbogw"
      }
    },
    {
      "cell_type": "code",
      "source": [
        "def update_moving_average(online_net, target_net, momentum):\n",
        "    # Update encoder\n",
        "    for param_o, param_t in zip(online_net.encoder.parameters(), target_net.encoder.parameters()):\n",
        "        param_t.data = param_t.data * momentum + param_o.data * (1.0 - momentum)\n",
        "\n",
        "    # Update projector\n",
        "    for param_o, param_t in zip(online_net.projector.parameters(), target_net.projector.parameters()):\n",
        "        param_t.data = param_t.data * momentum + param_o.data * (1.0 - momentum)"
      ],
      "metadata": {
        "id": "7-fbzSSFjV6d"
      },
      "execution_count": null,
      "outputs": []
    },
    {
      "cell_type": "markdown",
      "source": [
        "### Loss Function\n",
        "$\\text{Cosine Similarity} = \\frac{A \\cdot B}{\\|A\\| \\|B\\|}$"
      ],
      "metadata": {
        "id": "_IhVAUopNE4m"
      }
    },
    {
      "cell_type": "code",
      "source": [
        "def loss_function(p, z):\n",
        "    p = F.normalize(p, dim=1)\n",
        "    z = F.normalize(z.detach(), dim=1)\n",
        "\n",
        "    similarity = (p * z).sum(dim=1)\n",
        "    loss = 2 - 2 * similarity\n",
        "    avg_loss = loss.mean()\n",
        "\n",
        "    return avg_loss"
      ],
      "metadata": {
        "id": "047VAE69ZXTQ"
      },
      "execution_count": null,
      "outputs": []
    },
    {
      "cell_type": "code",
      "source": [
        "def get_resnet18_enc():\n",
        "    # FOR CIFAR-10 DATASET\n",
        "    model = models.resnet18(weights=None)\n",
        "    model.conv1 = nn.Conv2d(3, 64, kernel_size=3, stride=1, padding=1, bias=False)\n",
        "    model.bn1 = nn.BatchNorm2d(64)\n",
        "    model.relu = nn.ReLU(inplace=True)\n",
        "    model.maxpool = nn.Identity()\n",
        "    model.fc = nn.Identity()\n",
        "\n",
        "    return model"
      ],
      "metadata": {
        "id": "-wol4us8B0ZE"
      },
      "execution_count": null,
      "outputs": []
    },
    {
      "cell_type": "code",
      "source": [
        "def get_resnet50_enc():\n",
        "    model = models.resnet50(weights=None)\n",
        "    model.conv1 = nn.Conv2d(3, 64, kernel_size=3, stride=1, padding=1, bias=False)\n",
        "    model.bn1 = nn.BatchNorm2d(64)\n",
        "    model.relu = nn.ReLU(inplace=True)\n",
        "    model.maxpool = nn.Identity()\n",
        "    model.fc = nn.Identity()\n",
        "\n",
        "    return model"
      ],
      "metadata": {
        "id": "xkZyOhqYg-NJ"
      },
      "execution_count": null,
      "outputs": []
    },
    {
      "cell_type": "markdown",
      "source": [
        "### Training Loop"
      ],
      "metadata": {
        "id": "lbRJFSQBg1VS"
      }
    },
    {
      "cell_type": "code",
      "source": [
        "def train_BYOL(online_net, target_net, num_epochs, train_loader, optimizer, momentum, device):\n",
        "    train_len = len(train_loader)\n",
        "    losses = list()\n",
        "\n",
        "    for epoch in range(num_epochs):\n",
        "        loss_accumulator = 0\n",
        "        online_net.train()\n",
        "\n",
        "        for image, (view1, view2) in enumerate(train_loader):\n",
        "            view1, view2 = view1.to(device), view2.to(device)\n",
        "\n",
        "            # Online net forward pass\n",
        "            (p1, _) = online_net(view1)\n",
        "            (p2, _) = online_net(view2)\n",
        "\n",
        "            # Target net forward pass w/o gradients\n",
        "            with torch.no_grad():\n",
        "                z1, z2 = target_net(view1), target_net(view2)\n",
        "\n",
        "            loss = loss_function(p1, z2) + loss_function(p2, z1)\n",
        "\n",
        "            # Backpropagation\n",
        "            optimizer.zero_grad()\n",
        "            loss.backward()\n",
        "            optimizer.step()\n",
        "\n",
        "            update_moving_average(online_net, target_net, momentum)\n",
        "\n",
        "            loss_accumulator += loss.item()\n",
        "\n",
        "        avg_loss = loss_accumulator / train_len\n",
        "        losses.append(avg_loss)\n",
        "        print(f\"Epoch: {epoch + 1}/{num_epochs}, Average Loss: {avg_loss:.4f}\")\n",
        "\n",
        "    # Plot loss\n",
        "    plt.figure()\n",
        "    plt.plot(range(1, num_epochs + 1), losses)\n",
        "    plt.xlabel(\"Epoch\")\n",
        "    plt.ylabel(\"BYOL Training Loss\")\n",
        "    plt.title(\"Loss Over Epochs\")\n",
        "    plt.show()"
      ],
      "metadata": {
        "id": "FcMStqB8jX-U"
      },
      "execution_count": null,
      "outputs": []
    },
    {
      "cell_type": "code",
      "source": [
        "# Dataset Stats\n",
        "raw_train_data = datasets.CIFAR10(root='data', train=True, download=True)\n",
        "data = torch.stack([ToTensor()(img) for img, _ in raw_train_data])\n",
        "mean = data.mean([0, 2, 3])\n",
        "std = data.std([0, 2, 3])"
      ],
      "metadata": {
        "colab": {
          "base_uri": "https://localhost:8080/"
        },
        "id": "wgDx0ZriNYzY",
        "outputId": "00612477-e504-44c2-cc2f-c8d5ef1f1acf"
      },
      "execution_count": null,
      "outputs": [
        {
          "output_type": "stream",
          "name": "stdout",
          "text": [
            "Downloading https://www.cs.toronto.edu/~kriz/cifar-10-python.tar.gz to data/cifar-10-python.tar.gz\n"
          ]
        },
        {
          "output_type": "stream",
          "name": "stderr",
          "text": [
            "100%|██████████| 170M/170M [00:13<00:00, 13.1MB/s]\n"
          ]
        },
        {
          "output_type": "stream",
          "name": "stdout",
          "text": [
            "Extracting data/cifar-10-python.tar.gz to data\n"
          ]
        }
      ]
    },
    {
      "cell_type": "code",
      "source": [
        "# Augmentation\n",
        "color_jitter = ColorJitter(brightness=0.8, contrast=0.8, saturation=0.8, hue=0.2)\n",
        "SIMCLR_augmentation = Compose([\n",
        "    RandomResizedCrop((32, 32)),\n",
        "    RandomHorizontalFlip(),\n",
        "    RandomGrayscale(p=0.2),\n",
        "    RandomApply([color_jitter], p=0.3),\n",
        "    RandomApply([GaussianBlur(kernel_size=3, sigma=(0.1, 2.0))], p=0.2),\n",
        "    ToTensor(),\n",
        "    Normalize(mean=mean.tolist(), std=std.tolist())\n",
        "])\n",
        "\n",
        "new_augmentation = Compose([\n",
        "    RandomResizedCrop(32, scale=(0.8, 1.0)),\n",
        "    RandomHorizontalFlip(),\n",
        "    RandomGrayscale(p=0.2),\n",
        "    ColorJitter(brightness=0.4, contrast=0.4, saturation=0.4, hue=0.1),\n",
        "    ToTensor(),\n",
        "    Normalize(mean=mean.tolist(), std=std.tolist())\n",
        "])\n",
        "\n",
        "transform = new_augmentation\n",
        "\n",
        "# TODO: Look into other transforms such as vertical flip"
      ],
      "metadata": {
        "id": "dpiNsz1PJoNS"
      },
      "execution_count": null,
      "outputs": []
    },
    {
      "cell_type": "code",
      "source": [
        "print(f\"Statistics:\\nMean = {mean}\\nStandard Deviation = {std}\")"
      ],
      "metadata": {
        "colab": {
          "base_uri": "https://localhost:8080/"
        },
        "id": "HM9bcsBNNf0P",
        "outputId": "465187e2-3d96-481b-b893-ca7c10c8cca4"
      },
      "execution_count": null,
      "outputs": [
        {
          "output_type": "stream",
          "name": "stdout",
          "text": [
            "Statistics:\n",
            "Mean = tensor([0.4914, 0.4822, 0.4465])\n",
            "Standard Deviation = tensor([0.2470, 0.2435, 0.2616])\n"
          ]
        }
      ]
    },
    {
      "cell_type": "code",
      "source": [
        "# Load data\n",
        "train_data = datasets.CIFAR10(root='./data', train=True, download=True, transform=None)\n",
        "train_dataset = BYOLDataset(train_data, transform)\n",
        "train_loader = DataLoader(train_dataset, batch_size=64, shuffle=True, num_workers=4)"
      ],
      "metadata": {
        "colab": {
          "base_uri": "https://localhost:8080/"
        },
        "id": "4QNfHtsKJpUo",
        "outputId": "df088c8d-c6f6-444f-9036-1fd5c0548fcb"
      },
      "execution_count": null,
      "outputs": [
        {
          "output_type": "stream",
          "name": "stdout",
          "text": [
            "Files already downloaded and verified\n"
          ]
        }
      ]
    },
    {
      "cell_type": "code",
      "source": [
        "def initialize_model():\n",
        "    online_net = OnlineNetwork().to(device)\n",
        "    target_net = TargetNetwork().to(device)\n",
        "    optimizer = optim.Adam(online_net.parameters(), lr=0.001)\n",
        "\n",
        "    # Set target net params with online net params and freeze gradients for target net\n",
        "    for param_o, param_t in zip(online_net.encoder.parameters(), target_net.encoder.parameters()):\n",
        "        param_t.data.copy_(param_o.data)\n",
        "        param_t.requires_grad = False\n",
        "\n",
        "    for param_o, param_t in zip(online_net.projector.parameters(), target_net.projector.parameters()):\n",
        "        param_t.data.copy_(param_o.data)\n",
        "        param_t.requires_grad = False\n",
        "\n",
        "    return online_net, target_net, optimizer"
      ],
      "metadata": {
        "id": "BN9mEmSXznHK"
      },
      "execution_count": null,
      "outputs": []
    },
    {
      "cell_type": "code",
      "source": [
        "def save_model(num_epochs, momentum, model_path=\"byol_model.pth\"):\n",
        "    online_net, target_net, optimizer = initialize_model()\n",
        "    train_BYOL(\n",
        "        online_net=online_net,\n",
        "        target_net=target_net,\n",
        "        num_epochs=num_epochs,\n",
        "        train_loader=train_loader,\n",
        "        optimizer=optimizer,\n",
        "        momentum=momentum,\n",
        "        device=device\n",
        "    )\n",
        "    torch.save(online_net.state_dict(), model_path)\n",
        "    print(f\"Model Path: {model_path}\")"
      ],
      "metadata": {
        "id": "HCHTGNUQytci"
      },
      "execution_count": null,
      "outputs": []
    },
    {
      "cell_type": "code",
      "source": [
        "save_model(num_epochs=30, momentum=0.995, model_path=\"/content/drive/MyDrive/BYOL/byol_model.pth\")"
      ],
      "metadata": {
        "colab": {
          "base_uri": "https://localhost:8080/",
          "height": 1000
        },
        "id": "BKrUwgpQzXmK",
        "outputId": "fa9f78d8-efbc-4c2f-b105-344ca93e6617"
      },
      "execution_count": null,
      "outputs": [
        {
          "output_type": "stream",
          "name": "stdout",
          "text": [
            "Epoch: 1/30, Average Loss: 0.8165\n",
            "Epoch: 2/30, Average Loss: 0.4630\n",
            "Epoch: 3/30, Average Loss: 0.2831\n",
            "Epoch: 4/30, Average Loss: 0.2044\n",
            "Epoch: 5/30, Average Loss: 0.1745\n",
            "Epoch: 6/30, Average Loss: 0.1604\n",
            "Epoch: 7/30, Average Loss: 0.1524\n",
            "Epoch: 8/30, Average Loss: 0.1438\n",
            "Epoch: 9/30, Average Loss: 0.1369\n",
            "Epoch: 10/30, Average Loss: 0.1322\n",
            "Epoch: 11/30, Average Loss: 0.1264\n",
            "Epoch: 12/30, Average Loss: 0.1218\n",
            "Epoch: 13/30, Average Loss: 0.1154\n",
            "Epoch: 14/30, Average Loss: 0.1148\n",
            "Epoch: 15/30, Average Loss: 0.1141\n",
            "Epoch: 16/30, Average Loss: 0.1110\n",
            "Epoch: 17/30, Average Loss: 0.1077\n",
            "Epoch: 18/30, Average Loss: 0.1031\n",
            "Epoch: 19/30, Average Loss: 0.0994\n",
            "Epoch: 20/30, Average Loss: 0.0966\n",
            "Epoch: 21/30, Average Loss: 0.0947\n",
            "Epoch: 22/30, Average Loss: 0.0926\n",
            "Epoch: 23/30, Average Loss: 0.0917\n",
            "Epoch: 24/30, Average Loss: 0.0902\n",
            "Epoch: 25/30, Average Loss: 0.0904\n",
            "Epoch: 26/30, Average Loss: 0.0888\n",
            "Epoch: 27/30, Average Loss: 0.0863\n",
            "Epoch: 28/30, Average Loss: 0.0855\n",
            "Epoch: 29/30, Average Loss: 0.0855\n",
            "Epoch: 30/30, Average Loss: 0.0850\n"
          ]
        },
        {
          "output_type": "display_data",
          "data": {
            "text/plain": [
              "<Figure size 640x480 with 1 Axes>"
            ],
            "image/png": "[encoded data removed]"
          },
          "metadata": {}
        },
        {
          "output_type": "stream",
          "name": "stdout",
          "text": [
            "Model Path: /content/drive/MyDrive/BYOL/byol_model.pth\n"
          ]
        }
      ]
    },
    {
      "cell_type": "code",
      "source": [
        "def load_trained_encoder(model_path):\n",
        "    online_net = OnlineNetwork().to(device)\n",
        "    online_net.load_state_dict(torch.load(model_path))\n",
        "    return online_net.encoder"
      ],
      "metadata": {
        "id": "m7_TKqqcxlrw"
      },
      "execution_count": null,
      "outputs": []
    },
    {
      "cell_type": "code",
      "source": [
        "# Load trained encoder\n",
        "encoder = load_trained_encoder(model_path=\"/content/drive/MyDrive/BYOL/byol_model.pth\")\n",
        "encoder.eval()"
      ],
      "metadata": {
        "colab": {
          "base_uri": "https://localhost:8080/"
        },
        "id": "yEiyc32ozeFd",
        "outputId": "2092d936-bb6f-42ac-b123-fa083c0372bf"
      },
      "execution_count": null,
      "outputs": [
        {
          "output_type": "stream",
          "name": "stderr",
          "text": [
            "<ipython-input-22-a2904319f99e>:3: FutureWarning: You are using `torch.load` with `weights_only=False` (the current default value), which uses the default pickle module implicitly. It is possible to construct malicious pickle data which will execute arbitrary code during unpickling (See https://github.com/pytorch/pytorch/blob/main/SECURITY.md#untrusted-models for more details). In a future release, the default value for `weights_only` will be flipped to `True`. This limits the functions that could be executed during unpickling. Arbitrary objects will no longer be allowed to be loaded via this mode unless they are explicitly allowlisted by the user via `torch.serialization.add_safe_globals`. We recommend you start setting `weights_only=True` for any use case where you don't have full control of the loaded file. Please open an issue on GitHub for any issues related to this experimental feature.\n",
            "  online_net.load_state_dict(torch.load(model_path))\n"
          ]
        },
        {
          "output_type": "execute_result",
          "data": {
            "text/plain": [
              "ResNet(\n",
              "  (conv1): Conv2d(3, 64, kernel_size=(3, 3), stride=(1, 1), padding=(1, 1), bias=False)\n",
              "  (bn1): BatchNorm2d(64, eps=1e-05, momentum=0.1, affine=True, track_running_stats=True)\n",
              "  (relu): ReLU(inplace=True)\n",
              "  (maxpool): Identity()\n",
              "  (layer1): Sequential(\n",
              "    (0): BasicBlock(\n",
              "      (conv1): Conv2d(64, 64, kernel_size=(3, 3), stride=(1, 1), padding=(1, 1), bias=False)\n",
              "      (bn1): BatchNorm2d(64, eps=1e-05, momentum=0.1, affine=True, track_running_stats=True)\n",
              "      (relu): ReLU(inplace=True)\n",
              "      (conv2): Conv2d(64, 64, kernel_size=(3, 3), stride=(1, 1), padding=(1, 1), bias=False)\n",
              "      (bn2): BatchNorm2d(64, eps=1e-05, momentum=0.1, affine=True, track_running_stats=True)\n",
              "    )\n",
              "    (1): BasicBlock(\n",
              "      (conv1): Conv2d(64, 64, kernel_size=(3, 3), stride=(1, 1), padding=(1, 1), bias=False)\n",
              "      (bn1): BatchNorm2d(64, eps=1e-05, momentum=0.1, affine=True, track_running_stats=True)\n",
              "      (relu): ReLU(inplace=True)\n",
              "      (conv2): Conv2d(64, 64, kernel_size=(3, 3), stride=(1, 1), padding=(1, 1), bias=False)\n",
              "      (bn2): BatchNorm2d(64, eps=1e-05, momentum=0.1, affine=True, track_running_stats=True)\n",
              "    )\n",
              "  )\n",
              "  (layer2): Sequential(\n",
              "    (0): BasicBlock(\n",
              "      (conv1): Conv2d(64, 128, kernel_size=(3, 3), stride=(2, 2), padding=(1, 1), bias=False)\n",
              "      (bn1): BatchNorm2d(128, eps=1e-05, momentum=0.1, affine=True, track_running_stats=True)\n",
              "      (relu): ReLU(inplace=True)\n",
              "      (conv2): Conv2d(128, 128, kernel_size=(3, 3), stride=(1, 1), padding=(1, 1), bias=False)\n",
              "      (bn2): BatchNorm2d(128, eps=1e-05, momentum=0.1, affine=True, track_running_stats=True)\n",
              "      (downsample): Sequential(\n",
              "        (0): Conv2d(64, 128, kernel_size=(1, 1), stride=(2, 2), bias=False)\n",
              "        (1): BatchNorm2d(128, eps=1e-05, momentum=0.1, affine=True, track_running_stats=True)\n",
              "      )\n",
              "    )\n",
              "    (1): BasicBlock(\n",
              "      (conv1): Conv2d(128, 128, kernel_size=(3, 3), stride=(1, 1), padding=(1, 1), bias=False)\n",
              "      (bn1): BatchNorm2d(128, eps=1e-05, momentum=0.1, affine=True, track_running_stats=True)\n",
              "      (relu): ReLU(inplace=True)\n",
              "      (conv2): Conv2d(128, 128, kernel_size=(3, 3), stride=(1, 1), padding=(1, 1), bias=False)\n",
              "      (bn2): BatchNorm2d(128, eps=1e-05, momentum=0.1, affine=True, track_running_stats=True)\n",
              "    )\n",
              "  )\n",
              "  (layer3): Sequential(\n",
              "    (0): BasicBlock(\n",
              "      (conv1): Conv2d(128, 256, kernel_size=(3, 3), stride=(2, 2), padding=(1, 1), bias=False)\n",
              "      (bn1): BatchNorm2d(256, eps=1e-05, momentum=0.1, affine=True, track_running_stats=True)\n",
              "      (relu): ReLU(inplace=True)\n",
              "      (conv2): Conv2d(256, 256, kernel_size=(3, 3), stride=(1, 1), padding=(1, 1), bias=False)\n",
              "      (bn2): BatchNorm2d(256, eps=1e-05, momentum=0.1, affine=True, track_running_stats=True)\n",
              "      (downsample): Sequential(\n",
              "        (0): Conv2d(128, 256, kernel_size=(1, 1), stride=(2, 2), bias=False)\n",
              "        (1): BatchNorm2d(256, eps=1e-05, momentum=0.1, affine=True, track_running_stats=True)\n",
              "      )\n",
              "    )\n",
              "    (1): BasicBlock(\n",
              "      (conv1): Conv2d(256, 256, kernel_size=(3, 3), stride=(1, 1), padding=(1, 1), bias=False)\n",
              "      (bn1): BatchNorm2d(256, eps=1e-05, momentum=0.1, affine=True, track_running_stats=True)\n",
              "      (relu): ReLU(inplace=True)\n",
              "      (conv2): Conv2d(256, 256, kernel_size=(3, 3), stride=(1, 1), padding=(1, 1), bias=False)\n",
              "      (bn2): BatchNorm2d(256, eps=1e-05, momentum=0.1, affine=True, track_running_stats=True)\n",
              "    )\n",
              "  )\n",
              "  (layer4): Sequential(\n",
              "    (0): BasicBlock(\n",
              "      (conv1): Conv2d(256, 512, kernel_size=(3, 3), stride=(2, 2), padding=(1, 1), bias=False)\n",
              "      (bn1): BatchNorm2d(512, eps=1e-05, momentum=0.1, affine=True, track_running_stats=True)\n",
              "      (relu): ReLU(inplace=True)\n",
              "      (conv2): Conv2d(512, 512, kernel_size=(3, 3), stride=(1, 1), padding=(1, 1), bias=False)\n",
              "      (bn2): BatchNorm2d(512, eps=1e-05, momentum=0.1, affine=True, track_running_stats=True)\n",
              "      (downsample): Sequential(\n",
              "        (0): Conv2d(256, 512, kernel_size=(1, 1), stride=(2, 2), bias=False)\n",
              "        (1): BatchNorm2d(512, eps=1e-05, momentum=0.1, affine=True, track_running_stats=True)\n",
              "      )\n",
              "    )\n",
              "    (1): BasicBlock(\n",
              "      (conv1): Conv2d(512, 512, kernel_size=(3, 3), stride=(1, 1), padding=(1, 1), bias=False)\n",
              "      (bn1): BatchNorm2d(512, eps=1e-05, momentum=0.1, affine=True, track_running_stats=True)\n",
              "      (relu): ReLU(inplace=True)\n",
              "      (conv2): Conv2d(512, 512, kernel_size=(3, 3), stride=(1, 1), padding=(1, 1), bias=False)\n",
              "      (bn2): BatchNorm2d(512, eps=1e-05, momentum=0.1, affine=True, track_running_stats=True)\n",
              "    )\n",
              "  )\n",
              "  (avgpool): AdaptiveAvgPool2d(output_size=(1, 1))\n",
              "  (fc): Identity()\n",
              ")"
            ]
          },
          "metadata": {},
          "execution_count": 23
        }
      ]
    },
    {
      "cell_type": "code",
      "source": [
        "class LinearClassifier(nn.Module):\n",
        "    def __init__(self, encoder, num_classes, output_size):\n",
        "        super(LinearClassifier, self).__init__()\n",
        "        self.encoder = encoder\n",
        "        for param in self.encoder.parameters():\n",
        "            param.requires_grad = False\n",
        "\n",
        "        self.classifier = nn.Linear(output_size, num_classes)\n",
        "\n",
        "    def forward(self, x):\n",
        "        with torch.no_grad():\n",
        "            features = self.encoder(x)\n",
        "\n",
        "        return self.classifier(features)"
      ],
      "metadata": {
        "id": "IhYp1Yh9x5Zw"
      },
      "execution_count": null,
      "outputs": []
    },
    {
      "cell_type": "code",
      "source": [
        "def train_classifier(classifier, train_loader, criterion, optimizer, num_epochs, device):\n",
        "    classifier.train()\n",
        "    training_losses = []\n",
        "    training_accuracies = []\n",
        "\n",
        "    for epoch in range(num_epochs):\n",
        "        running_loss = 0.0\n",
        "        total = 0\n",
        "        correct = 0\n",
        "\n",
        "        for images, labels in train_loader:\n",
        "            images, labels = images.to(device), labels.to(device)\n",
        "\n",
        "            # Forward pass\n",
        "            outputs = classifier(images)\n",
        "            loss = criterion(outputs, labels)\n",
        "\n",
        "            # Backpropagation\n",
        "            optimizer.zero_grad()\n",
        "            loss.backward()\n",
        "            optimizer.step()\n",
        "\n",
        "            # Statistics\n",
        "            running_loss += loss.item()\n",
        "            _, predicted = torch.max(outputs.data, 1)\n",
        "            total += labels.size(0)\n",
        "            correct += (predicted == labels).sum().item()\n",
        "\n",
        "        avg_loss = running_loss / len(train_loader)\n",
        "        accuracy = 100.0 * correct / total\n",
        "        training_losses.append(avg_loss)\n",
        "        training_accuracies.append(accuracy)\n",
        "        print(f\"Epoch: {epoch + 1}/{num_epochs}, Avg Loss: {avg_loss:.4f}, Training Accuracy: {accuracy:.2f}%\")\n",
        "\n",
        "    # Plot training loss\n",
        "    plt.figure()\n",
        "    plt.plot(range(1, num_epochs + 1), training_losses, label=\"Training Loss\")\n",
        "    plt.xlabel(\"Epoch\")\n",
        "    plt.ylabel(\"Loss\")\n",
        "    plt.title(\"Classifier Training Loss\")\n",
        "    plt.legend()\n",
        "    plt.show()\n",
        "\n",
        "    # Plot training accuracy\n",
        "    plt.figure()\n",
        "    plt.plot(range(1, num_epochs + 1), training_accuracies, label=\"Training Accuracy\")\n",
        "    plt.xlabel(\"Epoch\")\n",
        "    plt.ylabel(\"Accuracy (%)\")\n",
        "    plt.title(\"Classifier Training Accuracy\")\n",
        "    plt.legend()\n",
        "    plt.show()"
      ],
      "metadata": {
        "id": "OgLQloCiDQUz"
      },
      "execution_count": null,
      "outputs": []
    },
    {
      "cell_type": "code",
      "source": [
        "def evaluate_classifier(classifier, test_loader, device):\n",
        "    classifier.eval()\n",
        "    total = 0\n",
        "    correct = 0\n",
        "\n",
        "    with torch.no_grad():\n",
        "        for images, labels in test_loader:\n",
        "            images, labels = images.to(device), labels.to(device)\n",
        "            outputs = classifier(images)\n",
        "\n",
        "            _, predicted = torch.max(outputs.data, 1)\n",
        "            total += labels.size(0)\n",
        "            correct += (predicted == labels).sum().item()\n",
        "\n",
        "    accuracy = 100.0 * correct / total\n",
        "    return accuracy"
      ],
      "metadata": {
        "id": "hFt0VX-mFJzf"
      },
      "execution_count": null,
      "outputs": []
    },
    {
      "cell_type": "code",
      "source": [
        "# Initialize classifier, loss function, and optimizer\n",
        "classifier = LinearClassifier(encoder, num_classes=10, output_size=512).to(device)\n",
        "criterion = nn.CrossEntropyLoss()\n",
        "optimizer = optim.Adam(classifier.classifier.parameters(), lr=0.001)"
      ],
      "metadata": {
        "id": "qFepRtoZCVyg"
      },
      "execution_count": null,
      "outputs": []
    },
    {
      "cell_type": "code",
      "source": [
        "test_transform = Compose([\n",
        "    ToTensor(),\n",
        "    Normalize(mean=mean.tolist(), std=std.tolist())\n",
        "])\n",
        "\n",
        "test_dataset = datasets.CIFAR10(root='./data', train=False, download=True, transform=test_transform)\n",
        "test_loader = DataLoader(test_dataset, batch_size=64, shuffle=False, num_workers=4)"
      ],
      "metadata": {
        "id": "hQsPX0g1C1pS",
        "colab": {
          "base_uri": "https://localhost:8080/"
        },
        "outputId": "ad117c55-4ea5-4807-f22d-81cb01f632ef"
      },
      "execution_count": null,
      "outputs": [
        {
          "output_type": "stream",
          "name": "stdout",
          "text": [
            "Files already downloaded and verified\n"
          ]
        }
      ]
    },
    {
      "cell_type": "code",
      "source": [
        "train_dataset = datasets.CIFAR10(root='./data', train=True, download=True, transform=test_transform)\n",
        "train_loader_classifier = DataLoader(train_dataset, batch_size=64, shuffle=False, num_workers=4)"
      ],
      "metadata": {
        "colab": {
          "base_uri": "https://localhost:8080/"
        },
        "id": "ItWQj2MRDFCE",
        "outputId": "8a82c2ea-6c12-4362-e733-d5d4db317978"
      },
      "execution_count": null,
      "outputs": [
        {
          "output_type": "stream",
          "name": "stdout",
          "text": [
            "Files already downloaded and verified\n"
          ]
        }
      ]
    },
    {
      "cell_type": "code",
      "source": [
        "train_classifier(\n",
        "    classifier=classifier,\n",
        "    train_loader=train_loader_classifier,\n",
        "    criterion=criterion,\n",
        "    optimizer=optimizer,\n",
        "    num_epochs=25,\n",
        "    device=device\n",
        ")"
      ],
      "metadata": {
        "colab": {
          "base_uri": "https://localhost:8080/",
          "height": 1000
        },
        "id": "YZnoEhJXFY0q",
        "outputId": "c14369ee-46b4-4a3e-fc42-49d9b6e81bb5"
      },
      "execution_count": null,
      "outputs": [
        {
          "output_type": "stream",
          "name": "stdout",
          "text": [
            "Epoch: 1/25, Avg Loss: 1.4229, Training Accuracy: 49.72%\n",
            "Epoch: 2/25, Avg Loss: 1.2629, Training Accuracy: 55.08%\n",
            "Epoch: 3/25, Avg Loss: 1.2152, Training Accuracy: 56.94%\n",
            "Epoch: 4/25, Avg Loss: 1.1848, Training Accuracy: 58.05%\n",
            "Epoch: 5/25, Avg Loss: 1.1628, Training Accuracy: 59.00%\n",
            "Epoch: 6/25, Avg Loss: 1.1455, Training Accuracy: 59.61%\n",
            "Epoch: 7/25, Avg Loss: 1.1314, Training Accuracy: 60.13%\n",
            "Epoch: 8/25, Avg Loss: 1.1194, Training Accuracy: 60.55%\n",
            "Epoch: 9/25, Avg Loss: 1.1091, Training Accuracy: 60.92%\n",
            "Epoch: 10/25, Avg Loss: 1.1000, Training Accuracy: 61.26%\n",
            "Epoch: 11/25, Avg Loss: 1.0919, Training Accuracy: 61.57%\n",
            "Epoch: 12/25, Avg Loss: 1.0847, Training Accuracy: 61.84%\n",
            "Epoch: 13/25, Avg Loss: 1.0781, Training Accuracy: 62.07%\n",
            "Epoch: 14/25, Avg Loss: 1.0721, Training Accuracy: 62.26%\n",
            "Epoch: 15/25, Avg Loss: 1.0665, Training Accuracy: 62.50%\n",
            "Epoch: 16/25, Avg Loss: 1.0614, Training Accuracy: 62.68%\n",
            "Epoch: 17/25, Avg Loss: 1.0567, Training Accuracy: 62.83%\n",
            "Epoch: 18/25, Avg Loss: 1.0523, Training Accuracy: 62.97%\n",
            "Epoch: 19/25, Avg Loss: 1.0482, Training Accuracy: 63.12%\n",
            "Epoch: 20/25, Avg Loss: 1.0443, Training Accuracy: 63.26%\n",
            "Epoch: 21/25, Avg Loss: 1.0407, Training Accuracy: 63.39%\n",
            "Epoch: 22/25, Avg Loss: 1.0373, Training Accuracy: 63.51%\n",
            "Epoch: 23/25, Avg Loss: 1.0341, Training Accuracy: 63.62%\n",
            "Epoch: 24/25, Avg Loss: 1.0310, Training Accuracy: 63.73%\n",
            "Epoch: 25/25, Avg Loss: 1.0281, Training Accuracy: 63.88%\n"
          ]
        },
        {
          "output_type": "display_data",
          "data": {
            "text/plain": [
              "<Figure size 640x480 with 1 Axes>"
            ],
            "image/png": "[encoded data removed]"
          },
          "metadata": {}
        },
        {
          "output_type": "display_data",
          "data": {
            "text/plain": [
              "<Figure size 640x480 with 1 Axes>"
            ],
            "image/png": "[encoded data removed]"
          },
          "metadata": {}
        }
      ]
    },
    {
      "cell_type": "code",
      "source": [
        "classifier_accuracy = evaluate_classifier(\n",
        "    classifier=classifier,\n",
        "    test_loader=test_loader,\n",
        "    device=device\n",
        ")"
      ],
      "metadata": {
        "id": "q9qHM80kFdpX"
      },
      "execution_count": null,
      "outputs": []
    },
    {
      "cell_type": "code",
      "source": [
        "print(f\"Test Accuracy: {classifier_accuracy:.2f}%\")"
      ],
      "metadata": {
        "colab": {
          "base_uri": "https://localhost:8080/"
        },
        "id": "QeZT7R1C2Se2",
        "outputId": "214f8ebf-8110-4600-a3a6-68906cf269e1"
      },
      "execution_count": null,
      "outputs": [
        {
          "output_type": "stream",
          "name": "stdout",
          "text": [
            "Test Accuracy: 63.07%\n"
          ]
        }
      ]
    }
  ]
}